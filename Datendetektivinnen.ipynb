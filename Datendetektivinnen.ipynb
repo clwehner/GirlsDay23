{
 "cells": [
  {
   "cell_type": "markdown",
   "metadata": {},
   "source": [
    "Herzlich Willkommen, liebe Datendetektivinnen.\n",
    "Um die Daten besser zu verstehen, laden wir zuerst unseren Werzeugkoffer:"
   ]
  },
  {
   "cell_type": "code",
   "execution_count": 1,
   "metadata": {},
   "outputs": [
    {
     "name": "stdout",
     "output_type": "stream",
     "text": [
      "Alle Werzeuge erfolgreich geladen\n"
     ]
    }
   ],
   "source": [
    "import numpy as np\n",
    "import pandas as pd\n",
    "from matplotlib import pyplot as plt\n",
    "from sklearn.cluster import KMeans\n",
    "print(\"Alle Werzeuge erfolgreich geladen\")"
   ]
  },
  {
   "cell_type": "markdown",
   "metadata": {},
   "source": [
    "Jetzt laden wir die eigentlichen Daten aus einer Tabelle. Dies sind die Daten mit fehlenden/falschen Angaben."
   ]
  },
  {
   "cell_type": "code",
   "execution_count": 2,
   "metadata": {},
   "outputs": [
    {
     "data": {
      "text/plain": [
       "ID                    30\n",
       "AnzahlFluegel         26\n",
       "Baujahr               25\n",
       "Name                  26\n",
       "Leistung              26\n",
       "Untergrund            27\n",
       "Hoehe                 30\n",
       "Durchmesser           27\n",
       "LeistungProFlaeche    27\n",
       "dtype: int64"
      ]
     },
     "execution_count": 2,
     "metadata": {},
     "output_type": "execute_result"
    }
   ],
   "source": [
    "file = \"GirlsDay_Beispiel_Windanlagen_v4_missing.csv\"\n",
    "daten = pd.read_csv(file)\n",
    "#Wir zaehlen, wie viele Daten wir je Katgorie haben.\n",
    "daten.count()"
   ]
  },
  {
   "cell_type": "code",
   "execution_count": 3,
   "metadata": {},
   "outputs": [
    {
     "data": {
      "text/html": [
       "<div>\n",
       "<style scoped>\n",
       "    .dataframe tbody tr th:only-of-type {\n",
       "        vertical-align: middle;\n",
       "    }\n",
       "\n",
       "    .dataframe tbody tr th {\n",
       "        vertical-align: top;\n",
       "    }\n",
       "\n",
       "    .dataframe thead th {\n",
       "        text-align: right;\n",
       "    }\n",
       "</style>\n",
       "<table border=\"1\" class=\"dataframe\">\n",
       "  <thead>\n",
       "    <tr style=\"text-align: right;\">\n",
       "      <th></th>\n",
       "      <th>ID</th>\n",
       "      <th>AnzahlFluegel</th>\n",
       "      <th>Baujahr</th>\n",
       "      <th>Name</th>\n",
       "      <th>Leistung</th>\n",
       "      <th>Untergrund</th>\n",
       "      <th>Hoehe</th>\n",
       "      <th>Durchmesser</th>\n",
       "      <th>LeistungProFlaeche</th>\n",
       "    </tr>\n",
       "  </thead>\n",
       "  <tbody>\n",
       "    <tr>\n",
       "      <th>0</th>\n",
       "      <td>1</td>\n",
       "      <td>3.0</td>\n",
       "      <td>2020.0</td>\n",
       "      <td>MaxWind-4MW</td>\n",
       "      <td>4.0</td>\n",
       "      <td>Land</td>\n",
       "      <td>105</td>\n",
       "      <td>137.0</td>\n",
       "      <td>271.0</td>\n",
       "    </tr>\n",
       "    <tr>\n",
       "      <th>1</th>\n",
       "      <td>2</td>\n",
       "      <td>NaN</td>\n",
       "      <td>2020.0</td>\n",
       "      <td>WindPower-1MW</td>\n",
       "      <td>1.0</td>\n",
       "      <td>Land</td>\n",
       "      <td>107</td>\n",
       "      <td>119.0</td>\n",
       "      <td>90.0</td>\n",
       "    </tr>\n",
       "    <tr>\n",
       "      <th>2</th>\n",
       "      <td>3</td>\n",
       "      <td>3.0</td>\n",
       "      <td>2020.0</td>\n",
       "      <td>SuperWind-2MW</td>\n",
       "      <td>2.0</td>\n",
       "      <td>Wasser</td>\n",
       "      <td>110</td>\n",
       "      <td>NaN</td>\n",
       "      <td>167.0</td>\n",
       "    </tr>\n",
       "    <tr>\n",
       "      <th>3</th>\n",
       "      <td>4</td>\n",
       "      <td>3.0</td>\n",
       "      <td>2020.0</td>\n",
       "      <td>MaxWind-4MW</td>\n",
       "      <td>NaN</td>\n",
       "      <td>Land</td>\n",
       "      <td>112</td>\n",
       "      <td>121.0</td>\n",
       "      <td>349.0</td>\n",
       "    </tr>\n",
       "    <tr>\n",
       "      <th>4</th>\n",
       "      <td>5</td>\n",
       "      <td>3.0</td>\n",
       "      <td>2020.0</td>\n",
       "      <td>WindPower-1MW</td>\n",
       "      <td>1.0</td>\n",
       "      <td>NaN</td>\n",
       "      <td>-113</td>\n",
       "      <td>110.0</td>\n",
       "      <td>105.0</td>\n",
       "    </tr>\n",
       "    <tr>\n",
       "      <th>5</th>\n",
       "      <td>6</td>\n",
       "      <td>3.0</td>\n",
       "      <td>2020.0</td>\n",
       "      <td>NaN</td>\n",
       "      <td>1.0</td>\n",
       "      <td>Land</td>\n",
       "      <td>114</td>\n",
       "      <td>90.0</td>\n",
       "      <td>157.0</td>\n",
       "    </tr>\n",
       "    <tr>\n",
       "      <th>6</th>\n",
       "      <td>7</td>\n",
       "      <td>3.0</td>\n",
       "      <td>2020.0</td>\n",
       "      <td>MaxWind-4MW</td>\n",
       "      <td>4.0</td>\n",
       "      <td>Land</td>\n",
       "      <td>117</td>\n",
       "      <td>145.0</td>\n",
       "      <td>NaN</td>\n",
       "    </tr>\n",
       "    <tr>\n",
       "      <th>7</th>\n",
       "      <td>8</td>\n",
       "      <td>3.0</td>\n",
       "      <td>2020.0</td>\n",
       "      <td>NaN</td>\n",
       "      <td>4.0</td>\n",
       "      <td>Land</td>\n",
       "      <td>118</td>\n",
       "      <td>121.0</td>\n",
       "      <td>347.0</td>\n",
       "    </tr>\n",
       "    <tr>\n",
       "      <th>8</th>\n",
       "      <td>9</td>\n",
       "      <td>3.0</td>\n",
       "      <td>2020.0</td>\n",
       "      <td>MaxWind-4MW</td>\n",
       "      <td>4.0</td>\n",
       "      <td>Land</td>\n",
       "      <td>0</td>\n",
       "      <td>133.0</td>\n",
       "      <td>287.0</td>\n",
       "    </tr>\n",
       "    <tr>\n",
       "      <th>9</th>\n",
       "      <td>10</td>\n",
       "      <td>3.0</td>\n",
       "      <td>2020.0</td>\n",
       "      <td>WindPower-1MW</td>\n",
       "      <td>1.0</td>\n",
       "      <td>Land</td>\n",
       "      <td>120</td>\n",
       "      <td>110.0</td>\n",
       "      <td>105.0</td>\n",
       "    </tr>\n",
       "  </tbody>\n",
       "</table>\n",
       "</div>"
      ],
      "text/plain": [
       "   ID  AnzahlFluegel  Baujahr           Name  Leistung Untergrund  Hoehe  \\\n",
       "0   1            3.0   2020.0    MaxWind-4MW       4.0       Land    105   \n",
       "1   2            NaN   2020.0  WindPower-1MW       1.0       Land    107   \n",
       "2   3            3.0   2020.0  SuperWind-2MW       2.0     Wasser    110   \n",
       "3   4            3.0   2020.0    MaxWind-4MW       NaN       Land    112   \n",
       "4   5            3.0   2020.0  WindPower-1MW       1.0        NaN   -113   \n",
       "5   6            3.0   2020.0            NaN       1.0       Land    114   \n",
       "6   7            3.0   2020.0    MaxWind-4MW       4.0       Land    117   \n",
       "7   8            3.0   2020.0            NaN       4.0       Land    118   \n",
       "8   9            3.0   2020.0    MaxWind-4MW       4.0       Land      0   \n",
       "9  10            3.0   2020.0  WindPower-1MW       1.0       Land    120   \n",
       "\n",
       "   Durchmesser  LeistungProFlaeche  \n",
       "0        137.0               271.0  \n",
       "1        119.0                90.0  \n",
       "2          NaN               167.0  \n",
       "3        121.0               349.0  \n",
       "4        110.0               105.0  \n",
       "5         90.0               157.0  \n",
       "6        145.0                 NaN  \n",
       "7        121.0               347.0  \n",
       "8        133.0               287.0  \n",
       "9        110.0               105.0  "
      ]
     },
     "execution_count": 3,
     "metadata": {},
     "output_type": "execute_result"
    }
   ],
   "source": [
    "#Wir lassens uns die ersten 10 Eintraege in der Tabelle anzeigen\n",
    "daten.head(10)\n",
    "#NaN steht fuer #Not a Number\", also \"keine Zahl\". So sagt der Computer, dass er diese Eingabe nicht versteht."
   ]
  },
  {
   "cell_type": "code",
   "execution_count": 4,
   "metadata": {},
   "outputs": [
    {
     "data": {
      "text/html": [
       "<div>\n",
       "<style scoped>\n",
       "    .dataframe tbody tr th:only-of-type {\n",
       "        vertical-align: middle;\n",
       "    }\n",
       "\n",
       "    .dataframe tbody tr th {\n",
       "        vertical-align: top;\n",
       "    }\n",
       "\n",
       "    .dataframe thead th {\n",
       "        text-align: right;\n",
       "    }\n",
       "</style>\n",
       "<table border=\"1\" class=\"dataframe\">\n",
       "  <thead>\n",
       "    <tr style=\"text-align: right;\">\n",
       "      <th></th>\n",
       "      <th>ID</th>\n",
       "      <th>AnzahlFluegel</th>\n",
       "      <th>Baujahr</th>\n",
       "      <th>Leistung</th>\n",
       "      <th>Hoehe</th>\n",
       "      <th>Durchmesser</th>\n",
       "      <th>LeistungProFlaeche</th>\n",
       "    </tr>\n",
       "  </thead>\n",
       "  <tbody>\n",
       "    <tr>\n",
       "      <th>count</th>\n",
       "      <td>30.000000</td>\n",
       "      <td>26.0</td>\n",
       "      <td>25.000000</td>\n",
       "      <td>26.000000</td>\n",
       "      <td>30.000000</td>\n",
       "      <td>27.000000</td>\n",
       "      <td>27.000000</td>\n",
       "    </tr>\n",
       "    <tr>\n",
       "      <th>mean</th>\n",
       "      <td>15.500000</td>\n",
       "      <td>3.0</td>\n",
       "      <td>2021.000000</td>\n",
       "      <td>2.153846</td>\n",
       "      <td>95.733333</td>\n",
       "      <td>135.259259</td>\n",
       "      <td>156.925926</td>\n",
       "    </tr>\n",
       "    <tr>\n",
       "      <th>std</th>\n",
       "      <td>8.803408</td>\n",
       "      <td>0.0</td>\n",
       "      <td>0.912871</td>\n",
       "      <td>1.120439</td>\n",
       "      <td>109.077300</td>\n",
       "      <td>21.132535</td>\n",
       "      <td>90.275189</td>\n",
       "    </tr>\n",
       "    <tr>\n",
       "      <th>min</th>\n",
       "      <td>1.000000</td>\n",
       "      <td>3.0</td>\n",
       "      <td>2020.000000</td>\n",
       "      <td>1.000000</td>\n",
       "      <td>-187.000000</td>\n",
       "      <td>90.000000</td>\n",
       "      <td>54.000000</td>\n",
       "    </tr>\n",
       "    <tr>\n",
       "      <th>25%</th>\n",
       "      <td>8.250000</td>\n",
       "      <td>3.0</td>\n",
       "      <td>2020.000000</td>\n",
       "      <td>1.000000</td>\n",
       "      <td>107.750000</td>\n",
       "      <td>121.000000</td>\n",
       "      <td>93.500000</td>\n",
       "    </tr>\n",
       "    <tr>\n",
       "      <th>50%</th>\n",
       "      <td>15.500000</td>\n",
       "      <td>3.0</td>\n",
       "      <td>2021.000000</td>\n",
       "      <td>2.000000</td>\n",
       "      <td>126.000000</td>\n",
       "      <td>134.000000</td>\n",
       "      <td>126.000000</td>\n",
       "    </tr>\n",
       "    <tr>\n",
       "      <th>75%</th>\n",
       "      <td>22.750000</td>\n",
       "      <td>3.0</td>\n",
       "      <td>2022.000000</td>\n",
       "      <td>2.000000</td>\n",
       "      <td>170.500000</td>\n",
       "      <td>144.000000</td>\n",
       "      <td>170.500000</td>\n",
       "    </tr>\n",
       "    <tr>\n",
       "      <th>max</th>\n",
       "      <td>30.000000</td>\n",
       "      <td>3.0</td>\n",
       "      <td>2022.000000</td>\n",
       "      <td>4.000000</td>\n",
       "      <td>198.000000</td>\n",
       "      <td>191.000000</td>\n",
       "      <td>349.000000</td>\n",
       "    </tr>\n",
       "  </tbody>\n",
       "</table>\n",
       "</div>"
      ],
      "text/plain": [
       "              ID  AnzahlFluegel      Baujahr   Leistung       Hoehe  \\\n",
       "count  30.000000           26.0    25.000000  26.000000   30.000000   \n",
       "mean   15.500000            3.0  2021.000000   2.153846   95.733333   \n",
       "std     8.803408            0.0     0.912871   1.120439  109.077300   \n",
       "min     1.000000            3.0  2020.000000   1.000000 -187.000000   \n",
       "25%     8.250000            3.0  2020.000000   1.000000  107.750000   \n",
       "50%    15.500000            3.0  2021.000000   2.000000  126.000000   \n",
       "75%    22.750000            3.0  2022.000000   2.000000  170.500000   \n",
       "max    30.000000            3.0  2022.000000   4.000000  198.000000   \n",
       "\n",
       "       Durchmesser  LeistungProFlaeche  \n",
       "count    27.000000           27.000000  \n",
       "mean    135.259259          156.925926  \n",
       "std      21.132535           90.275189  \n",
       "min      90.000000           54.000000  \n",
       "25%     121.000000           93.500000  \n",
       "50%     134.000000          126.000000  \n",
       "75%     144.000000          170.500000  \n",
       "max     191.000000          349.000000  "
      ]
     },
     "execution_count": 4,
     "metadata": {},
     "output_type": "execute_result"
    }
   ],
   "source": [
    "#Uebersicht ueber die Daten. Was bedeuten min & max?\n",
    "daten.describe()"
   ]
  },
  {
   "cell_type": "code",
   "execution_count": 5,
   "metadata": {},
   "outputs": [
    {
     "data": {
      "text/plain": [
       "56.0"
      ]
     },
     "execution_count": 5,
     "metadata": {},
     "output_type": "execute_result"
    }
   ],
   "source": [
    "#Die Funktion \"sum()\" summiert alle Eintraege. So koennen wir z.B. die Gesamtleistung bestimmen.\n",
    "daten['Leistung'].sum()"
   ]
  },
  {
   "cell_type": "code",
   "execution_count": 6,
   "metadata": {},
   "outputs": [
    {
     "data": {
      "image/png": "[encoded data removed]",
      "text/plain": [
       "<Figure size 432x288 with 1 Axes>"
      ]
     },
     "metadata": {
      "needs_background": "light"
     },
     "output_type": "display_data"
    }
   ],
   "source": [
    "#Wir koennen Daten auch visuell darstellen. Dies hilft uns bei dem Verstandnis und beim weiteren ausfuellen.\n",
    "plt.scatter(daten[\"ID\"].values,daten[\"Hoehe\"].values)\n",
    "plt.xlabel(\"ID\")\n",
    "plt.ylabel(\"Hoehe [m]\")\n",
    "plt.show()\n",
    "#Wir sehen dass die meisten Daten eng beisammen liegen und es 6 Ausreisser gibt.\n",
    "#Die Daten die eng beisammen liegen scheinen aufsteigend: groessere ID bedeutet hoeher.\n",
    "#Wir vermuten, dass die Daten der Hoehe nach sortiert sind.\n",
    "#Hilft uns diese Information um die fehlenden Hoehen zu ergaenzen?"
   ]
  },
  {
   "cell_type": "code",
   "execution_count": 7,
   "metadata": {},
   "outputs": [],
   "source": [
    "#Funktion die LeistungProFlaeche berechnet basierend auf Leistung und Durchmesser\n",
    "def LeistungProFlaeche(Leistung_MW, Durchmesser):\n",
    "    Flaeche = 3.14*(Durchmesser/2)**2\n",
    "    Leistung_Watt = Leistung_MW*1000000\n",
    "    return np.round(Leistung_Watt/Flaeche)"
   ]
  },
  {
   "cell_type": "code",
   "execution_count": 8,
   "metadata": {},
   "outputs": [
    {
     "name": "stdout",
     "output_type": "stream",
     "text": [
      "271.0\n"
     ]
    }
   ],
   "source": [
    "#Beispiel erste Zeile der Datentabelle\n",
    "print(LeistungProFlaeche(Leistung_MW=4, Durchmesser=137))"
   ]
  },
  {
   "cell_type": "code",
   "execution_count": 9,
   "metadata": {},
   "outputs": [
    {
     "name": "stdout",
     "output_type": "stream",
     "text": [
      "242.0\n"
     ]
    }
   ],
   "source": [
    "#Beispiel ID=7\n",
    "print(LeistungProFlaeche(Leistung_MW=4, Durchmesser=145))\n",
    "#Du kannst die Werte aendern, um dir die fehlenden Daten zu berechnen"
   ]
  },
  {
   "cell_type": "code",
   "execution_count": 10,
   "metadata": {},
   "outputs": [],
   "source": [
    "#Funktion um den Durchmesser zu berechnen, basierend auf Leistung und LeistungProFlaeche\n",
    "def Durchmesser(Leistung_MW, Leistung_pro_flaeche):\n",
    "    flaeche = 1000000*Leistung_MW/Leistung_pro_flaeche\n",
    "    return np.round(2*np.sqrt(flaeche/np.pi))"
   ]
  },
  {
   "cell_type": "code",
   "execution_count": 11,
   "metadata": {},
   "outputs": [
    {
     "name": "stdout",
     "output_type": "stream",
     "text": [
      "119.0\n"
     ]
    }
   ],
   "source": [
    "#Beispiel zweite Zeile\n",
    "print(Durchmesser(Leistung_MW=1, Leistung_pro_flaeche=90))"
   ]
  },
  {
   "cell_type": "code",
   "execution_count": 12,
   "metadata": {},
   "outputs": [
    {
     "name": "stdout",
     "output_type": "stream",
     "text": [
      "123.0\n"
     ]
    }
   ],
   "source": [
    "#Beispiel ID=3\n",
    "print(Durchmesser(Leistung_MW=2, Leistung_pro_flaeche=167))\n",
    "#Du kannst die Werte aendern, um dir die fehlenden Daten zu berechnen"
   ]
  },
  {
   "cell_type": "code",
   "execution_count": null,
   "metadata": {},
   "outputs": [],
   "source": []
  },
  {
   "cell_type": "code",
   "execution_count": 13,
   "metadata": {},
   "outputs": [],
   "source": [
    "### GRUPPIEREN DER DATEN ###"
   ]
  },
  {
   "cell_type": "code",
   "execution_count": 14,
   "metadata": {},
   "outputs": [],
   "source": [
    "#Wir laden nun die korrigierten Daten\n",
    "file = \"GirlsDay_Beispiel_Windanlagen_v4_complete.csv\"\n",
    "daten = pd.read_csv(file)"
   ]
  },
  {
   "cell_type": "code",
   "execution_count": 15,
   "metadata": {},
   "outputs": [
    {
     "data": {
      "image/png": "[encoded data removed]",
      "text/plain": [
       "<Figure size 432x288 with 1 Axes>"
      ]
     },
     "metadata": {
      "needs_background": "light"
     },
     "output_type": "display_data"
    }
   ],
   "source": [
    "#Wir stellen die Daten visuell dar\n",
    "plt.scatter(daten[\"Hoehe\"].values,daten[\"LeistungProFlaeche\"].values)\n",
    "plt.xlabel(\"Hoehe [m]\")\n",
    "plt.ylabel(\"Leistung pro Flaeche [W/m$^2$]\")\n",
    "plt.show()\n",
    "#Frage: Wie wuerdet ihr clustern? Wie viele Gruppen wuerdet ihr empfehlen?"
   ]
  },
  {
   "cell_type": "code",
   "execution_count": 16,
   "metadata": {},
   "outputs": [
    {
     "name": "stdout",
     "output_type": "stream",
     "text": [
      "31.289177740524934 87.77898709094703\n"
     ]
    }
   ],
   "source": [
    "#Jetzt nutzen wir Kuenstliche Intelligenz um die Daten zu clustern\n",
    "std1 = daten[\"Hoehe\"].std()\n",
    "std2 = daten[\"LeistungProFlaeche\"].std()\n",
    "print(std1,std2)\n",
    "#Divide data by standard deviation to scale clusters\n",
    "daten[\"Hoehe\"] /= std1\n",
    "daten[\"LeistungProFlaeche\"] /= std2"
   ]
  },
  {
   "cell_type": "code",
   "execution_count": 17,
   "metadata": {},
   "outputs": [
    {
     "name": "stdout",
     "output_type": "stream",
     "text": [
      "Anzahl Gruppen: 2\n"
     ]
    },
    {
     "data": {
      "image/png": "[encoded data removed]",
      "text/plain": [
       "<Figure size 432x288 with 1 Axes>"
      ]
     },
     "metadata": {
      "needs_background": "light"
     },
     "output_type": "display_data"
    },
    {
     "name": "stdout",
     "output_type": "stream",
     "text": [
      "Anzahl Gruppen: 3\n"
     ]
    },
    {
     "data": {
      "image/png": "[encoded data removed]",
      "text/plain": [
       "<Figure size 432x288 with 1 Axes>"
      ]
     },
     "metadata": {
      "needs_background": "light"
     },
     "output_type": "display_data"
    },
    {
     "name": "stdout",
     "output_type": "stream",
     "text": [
      "Anzahl Gruppen: 4\n"
     ]
    },
    {
     "data": {
      "image/png": "[encoded data removed]",
      "text/plain": [
       "<Figure size 432x288 with 1 Axes>"
      ]
     },
     "metadata": {
      "needs_background": "light"
     },
     "output_type": "display_data"
    },
    {
     "name": "stdout",
     "output_type": "stream",
     "text": [
      "Anzahl Gruppen: 5\n"
     ]
    },
    {
     "data": {
      "image/png": "[encoded data removed]",
      "text/plain": [
       "<Figure size 432x288 with 1 Axes>"
      ]
     },
     "metadata": {
      "needs_background": "light"
     },
     "output_type": "display_data"
    }
   ],
   "source": [
    "# K-means Clustering\n",
    "#Was ist die optimale Anzahl an Gruppen?\n",
    "#Wir probieren verschiedene Anzahlen aus:\n",
    "for Nclusters in [2,3,4,5]:\n",
    "    print(\"Anzahl Gruppen:\",Nclusters)\n",
    "    kmeans = KMeans(n_clusters=Nclusters).fit(daten[['Hoehe','LeistungProFlaeche']])\n",
    "    centroids = kmeans.cluster_centers_\n",
    "#    print(centroids)\n",
    "\n",
    "    plt.scatter(daten[\"Hoehe\"]*std1, daten[\"LeistungProFlaeche\"]*std2, c=kmeans.labels_.astype(float), s=100, alpha=1.0)\n",
    "#    plt.scatter(centroids[:, 0]*mean2, centroids[:, 1]*mean1, c='red', s=50)\n",
    "    plt.xlabel(\"Hoehe [m]\")\n",
    "    plt.ylabel(\"Leistung pro Flaeche [W/m$^2$]\")\n",
    "    plt.show()"
   ]
  },
  {
   "cell_type": "markdown",
   "metadata": {},
   "source": [
    "Robert Habeck will kleine Windrkraftanlagen (geringe Hoehe) mit hoher Leistung pro Flaeche. Welche Gruppe wuerdet ihr ihm dazu empfehlen? Wenn ihr die Gruppe identifiziert habt, koennt ihr in der Tabelle schauen, ob diese Anlagen etwas gemeinsam haben."
   ]
  },
  {
   "cell_type": "code",
   "execution_count": null,
   "metadata": {},
   "outputs": [],
   "source": []
  }
 ],
 "metadata": {
  "kernelspec": {
   "display_name": "Python 3 (ipykernel)",
   "language": "python",
   "name": "python3"
  },
  "language_info": {
   "codemirror_mode": {
    "name": "ipython",
    "version": 3
   },
   "file_extension": ".py",
   "mimetype": "text/x-python",
   "name": "python",
   "nbconvert_exporter": "python",
   "pygments_lexer": "ipython3",
   "version": "3.8.2"
  }
 },
 "nbformat": 4,
 "nbformat_minor": 4
}

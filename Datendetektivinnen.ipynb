{
 "cells": [
  {
   "cell_type": "markdown",
   "metadata": {},
   "source": [
    "Herzlich Willkommen, liebe Datendetektivinnen.\n",
    "Um die Daten besser zu verstehen, laden wir zuerst unseren Werzeugkoffer:"
   ]
  },
  {
   "cell_type": "code",
   "execution_count": null,
   "metadata": {},
   "outputs": [],
   "source": [
    "import numpy as np\n",
    "import pandas as pd\n",
    "from matplotlib import pyplot as plt\n",
    "from sklearn.cluster import KMeans\n",
    "print(\"Alle Werzeuge erfolgreich geladen\")"
   ]
  },
  {
   "cell_type": "markdown",
   "metadata": {},
   "source": [
    "Jetzt laden wir die eigentlichen Daten aus einer Tabelle. Dies sind die Daten mit fehlenden/falschen Angaben."
   ]
  },
  {
   "cell_type": "code",
   "execution_count": null,
   "metadata": {},
   "outputs": [],
   "source": [
    "file = \"GirlsDay_Beispiel_Windanlagen_v4_missing.csv\"\n",
    "daten = pd.read_csv(file)\n",
    "#Wir zaehlen, wie viele Daten wir je Katgorie haben.\n",
    "daten.count()"
   ]
  },
  {
   "attachments": {},
   "cell_type": "markdown",
   "metadata": {},
   "source": [
    "Jetzt wollen wir uns aber einmal ein paar Zeieln dieser Tabelle probehalber angucken. Wie können wir das machen?\n",
    "\n",
    "Zum Glück gibt es da eine weitere hilfreiche Funktion in Pandas: `.head(n)`\n",
    "\n",
    "Hiermit kannst du dir die n ersten Zeilen deiner Tabelle ausgeben lassen, also den Kopf. Logisch, wie englisch \"head\" auch schon sagt. Wollen wir also die ersten 10 Zeilen sehen, schreiben wir `.head(n=10)`. Wollen wir die ersten 50 Zeilen haben, dann `.head(n=50)`. Das gleich geht auch wenn du dir die letzten Zeilen von unten angucken willst. Dafür kannst du `.tail(n)` benutzen. Willst du also die 10 untersten Zeilen sehen, was bentzt du dann? Probier es aus!"
   ]
  },
  {
   "cell_type": "code",
   "execution_count": null,
   "metadata": {},
   "outputs": [],
   "source": [
    "\n",
    "daten.head(n=10)\n",
    "#"
   ]
  },
  {
   "attachments": {},
   "cell_type": "markdown",
   "metadata": {},
   "source": [
    "NaN steht für \"Not a Number\", also \"keine Zahl\". So sagt der Computer, dass er diese Eingabe nicht versteht.\n",
    "\n",
    "Nun lass uns ein wenig eine Übersicht über die Daten bekommen. Hierfür hat Pandas eine Funktion die sich `.describe()` nennt. Das gibt dir dann eine zusammenfassende Beschreibung deiner einzelnen Spalten aus. Das sind dann ganz viele mathematische Zusammenfassende Werte... Vielleicht kennt ihr ja den ein oder anderen?\n",
    "\n",
    "Was bedeuten denn zum Beispiel min & max?"
   ]
  },
  {
   "cell_type": "code",
   "execution_count": null,
   "metadata": {},
   "outputs": [],
   "source": [
    "daten.describe()"
   ]
  },
  {
   "attachments": {},
   "cell_type": "markdown",
   "metadata": {},
   "source": [
    "Die Funktion `.sum()` summiert alle Einträge. So können wir z.B. die Gesamtleistung bestimmen."
   ]
  },
  {
   "cell_type": "code",
   "execution_count": null,
   "metadata": {},
   "outputs": [],
   "source": [
    "daten['Leistung'].sum()"
   ]
  },
  {
   "attachments": {},
   "cell_type": "markdown",
   "metadata": {},
   "source": [
    "Wir können Daten auch visuell darstellen. Dies hilft uns bei dem Verständnis und beim weiteren ausfüllen."
   ]
  },
  {
   "cell_type": "code",
   "execution_count": null,
   "metadata": {},
   "outputs": [],
   "source": [
    "plt.scatter(daten[\"ID\"].values,daten[\"Hoehe\"].values)\n",
    "plt.xlabel(\"ID\")\n",
    "plt.ylabel(\"Hoehe [m]\")\n",
    "plt.show()"
   ]
  },
  {
   "attachments": {},
   "cell_type": "markdown",
   "metadata": {},
   "source": [
    "Wir sehen dass die meisten Daten eng beisammen liegen und es 6 Ausreisser gibt.\n",
    "Die Daten die eng beisammen liegen scheinen aufsteigend: größere ID bedeutet höhere Nabenhöhe.\n",
    "Wir vermuten, dass die Daten der Nabenhöhe nach sortiert sind.\n",
    "Hilft uns diese Information um die fehlenden Nabenhöhen zu ergänzen?\n",
    "\n",
    "\n",
    "Funktion die LeistungProFläche berechnet basierend auf Leistung und Durchmesser."
   ]
  },
  {
   "cell_type": "code",
   "execution_count": null,
   "metadata": {},
   "outputs": [],
   "source": [
    "def LeistungProFlaeche(Leistung_MW, Durchmesser):\n",
    "    Flaeche = 3.14*(Durchmesser/2)**2\n",
    "    Leistung_Watt = Leistung_MW*1000000\n",
    "    return np.round(Leistung_Watt/Flaeche)"
   ]
  },
  {
   "attachments": {},
   "cell_type": "markdown",
   "metadata": {},
   "source": [
    "Beispiel erste Zeile der Datentabelle"
   ]
  },
  {
   "cell_type": "code",
   "execution_count": null,
   "metadata": {},
   "outputs": [],
   "source": [
    "print(LeistungProFlaeche(Leistung_MW=4, Durchmesser=137))"
   ]
  },
  {
   "attachments": {},
   "cell_type": "markdown",
   "metadata": {},
   "source": [
    "Ein Beispiel mit der ID=7"
   ]
  },
  {
   "cell_type": "code",
   "execution_count": null,
   "metadata": {},
   "outputs": [],
   "source": [
    "print(LeistungProFlaeche(Leistung_MW=4, Durchmesser=145))"
   ]
  },
  {
   "attachments": {},
   "cell_type": "markdown",
   "metadata": {},
   "source": [
    "Du kannst die Werte ändern, um dir die fehlenden Daten zu berechnen\n",
    "\n",
    "Funktion um den Durchmesser zu berechnen, basierend auf Leistung und LeistungProFlaeche"
   ]
  },
  {
   "cell_type": "code",
   "execution_count": null,
   "metadata": {},
   "outputs": [],
   "source": [
    "def Durchmesser(Leistung_MW, Leistung_pro_flaeche):\n",
    "    flaeche = 1000000*Leistung_MW/Leistung_pro_flaeche\n",
    "    return np.round(2*np.sqrt(flaeche/np.pi))"
   ]
  },
  {
   "attachments": {},
   "cell_type": "markdown",
   "metadata": {},
   "source": [
    "Dafür ein Beispiel für die zweite Zeile."
   ]
  },
  {
   "cell_type": "code",
   "execution_count": null,
   "metadata": {},
   "outputs": [],
   "source": [
    "print(Durchmesser(Leistung_MW=1, Leistung_pro_flaeche=90))"
   ]
  },
  {
   "attachments": {},
   "cell_type": "markdown",
   "metadata": {},
   "source": [
    "Und ein Beispiel für ID=3:"
   ]
  },
  {
   "cell_type": "code",
   "execution_count": null,
   "metadata": {},
   "outputs": [],
   "source": [
    "print(Durchmesser(Leistung_MW=2, Leistung_pro_flaeche=167))\n",
    "#"
   ]
  },
  {
   "attachments": {},
   "cell_type": "markdown",
   "metadata": {},
   "source": [
    "Du kannst die Werte ändern, um dir die fehlenden Daten zu berechnen.\n",
    "\n",
    "### GRUPPIEREN DER DATEN\n",
    "\n",
    "Wir laden nun die korrigierten Daten ein."
   ]
  },
  {
   "cell_type": "code",
   "execution_count": null,
   "metadata": {},
   "outputs": [],
   "source": [
    "file = \"GirlsDay_Beispiel_Windanlagen_v4_complete.csv\"\n",
    "daten = pd.read_csv(file)"
   ]
  },
  {
   "attachments": {},
   "cell_type": "markdown",
   "metadata": {},
   "source": [
    "Wir stellen die Daten visuell dar."
   ]
  },
  {
   "cell_type": "code",
   "execution_count": null,
   "metadata": {},
   "outputs": [],
   "source": [
    "plt.scatter(daten[\"Hoehe\"].values,daten[\"LeistungProFlaeche\"].values)\n",
    "plt.xlabel(\"Hoehe [m]\")\n",
    "plt.ylabel(\"Leistung pro Flaeche [W/m$^2$]\")\n",
    "plt.show()"
   ]
  },
  {
   "attachments": {},
   "cell_type": "markdown",
   "metadata": {},
   "source": [
    "Frage: Wie würdet ihr clustern? Wie viele Gruppen würdet ihr empfehlen?\n",
    "\n",
    "Dann lasst uns doch mal Künstliche Intelligenz nutzen um die Daten zu clustern! Bereit?"
   ]
  },
  {
   "cell_type": "code",
   "execution_count": null,
   "metadata": {},
   "outputs": [],
   "source": [
    "std1 = daten[\"Hoehe\"].std()\n",
    "std2 = daten[\"LeistungProFlaeche\"].std()\n",
    "print(std1,std2)\n",
    "# Hier ein paar nötige Vorbereitungen der Daten...\n",
    "daten[\"Hoehe\"] /= std1\n",
    "daten[\"LeistungProFlaeche\"] /= std2"
   ]
  },
  {
   "attachments": {},
   "cell_type": "markdown",
   "metadata": {},
   "source": [
    "#### K-means Clustering\n",
    "\n",
    "Was ist die optimale Anzahl an Gruppen?\n",
    "Wir probieren verschiedene Anzahlen aus:"
   ]
  },
  {
   "cell_type": "code",
   "execution_count": null,
   "metadata": {},
   "outputs": [],
   "source": [
    "\n",
    "for Nclusters in [2,3,4,5]:\n",
    "    print(\"Anzahl Gruppen:\",Nclusters)\n",
    "    kmeans = KMeans(n_clusters=Nclusters).fit(daten[['Hoehe','LeistungProFlaeche']])\n",
    "    centroids = kmeans.cluster_centers_\n",
    "#    print(centroids)\n",
    "\n",
    "    plt.scatter(daten[\"Hoehe\"]*std1, daten[\"LeistungProFlaeche\"]*std2, c=kmeans.labels_.astype(float), s=100, alpha=1.0)\n",
    "#    plt.scatter(centroids[:, 0]*mean2, centroids[:, 1]*mean1, c='red', s=50)\n",
    "    plt.xlabel(\"Hoehe [m]\")\n",
    "    plt.ylabel(\"Leistung pro Flaeche [W/m$^2$]\")\n",
    "    plt.show()"
   ]
  },
  {
   "attachments": {},
   "cell_type": "markdown",
   "metadata": {},
   "source": [
    "Robert Habeck will kleine Windenergieanlagen (geringe Höhe) mit hoher Leistung pro Fläche. Welche Gruppe wuerdet ihr ihm dazu empfehlen? Wenn ihr die Gruppe identifiziert habt, könnt ihr in der Tabelle schauen, ob diese Anlagen etwas gemeinsam haben."
   ]
  }
 ],
 "metadata": {
  "kernelspec": {
   "display_name": "Python 3 (ipykernel)",
   "language": "python",
   "name": "python3"
  },
  "language_info": {
   "codemirror_mode": {
    "name": "ipython",
    "version": 3
   },
   "file_extension": ".py",
   "mimetype": "text/x-python",
   "name": "python",
   "nbconvert_exporter": "python",
   "pygments_lexer": "ipython3",
   "version": "3.8.2"
  }
 },
 "nbformat": 4,
 "nbformat_minor": 4
}

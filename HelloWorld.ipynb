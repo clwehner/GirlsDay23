{
 "cells": [
  {
   "cell_type": "markdown",
   "id": "3cd9a86a",
   "metadata": {},
   "source": [
    "## Python Basics"
   ]
  },
  {
   "cell_type": "code",
   "execution_count": null,
   "id": "6eb39195",
   "metadata": {},
   "outputs": [],
   "source": [
    "name = 'Anna'"
   ]
  },
  {
   "cell_type": "code",
   "execution_count": null,
   "id": "8f7b044c",
   "metadata": {},
   "outputs": [],
   "source": [
    "name"
   ]
  },
  {
   "cell_type": "code",
   "execution_count": null,
   "id": "90cebc2f",
   "metadata": {},
   "outputs": [],
   "source": [
    "a = 1"
   ]
  },
  {
   "cell_type": "code",
   "execution_count": null,
   "id": "f71668b7",
   "metadata": {},
   "outputs": [],
   "source": [
    "a"
   ]
  },
  {
   "cell_type": "code",
   "execution_count": null,
   "id": "39af7dad",
   "metadata": {},
   "outputs": [],
   "source": [
    "print(a)"
   ]
  },
  {
   "cell_type": "code",
   "execution_count": null,
   "id": "33525352",
   "metadata": {},
   "outputs": [],
   "source": [
    "3 + 5"
   ]
  },
  {
   "cell_type": "code",
   "execution_count": null,
   "id": "7eab4084",
   "metadata": {},
   "outputs": [],
   "source": [
    "a + 4"
   ]
  },
  {
   "cell_type": "code",
   "execution_count": null,
   "id": "e10a6bd7",
   "metadata": {},
   "outputs": [],
   "source": [
    "List = [1,2,3,4,5]"
   ]
  },
  {
   "cell_type": "code",
   "execution_count": null,
   "id": "e2b8ce16",
   "metadata": {},
   "outputs": [],
   "source": [
    "List"
   ]
  },
  {
   "cell_type": "code",
   "execution_count": null,
   "id": "a5cf2ce3",
   "metadata": {},
   "outputs": [],
   "source": [
    "List = [\"Anna\", \"Marie\", \"Lena\"]"
   ]
  },
  {
   "cell_type": "code",
   "execution_count": null,
   "id": "ae015d40",
   "metadata": {},
   "outputs": [],
   "source": [
    "List"
   ]
  },
  {
   "cell_type": "code",
   "execution_count": null,
   "id": "0abb3db3",
   "metadata": {},
   "outputs": [],
   "source": [
    "Alter = [11,12,13,33]"
   ]
  },
  {
   "cell_type": "code",
   "execution_count": null,
   "id": "9cf43cf0",
   "metadata": {},
   "outputs": [],
   "source": [
    "Mittelwert = sum(Alter)/4\n",
    "Mittelwert"
   ]
  },
  {
   "cell_type": "code",
   "execution_count": null,
   "id": "66148a8c",
   "metadata": {},
   "outputs": [],
   "source": [
    "for name in List:\n",
    "    print(name)"
   ]
  },
  {
   "cell_type": "code",
   "execution_count": null,
   "id": "a1a493c5",
   "metadata": {},
   "outputs": [],
   "source": [
    "def SagDeinenNamen():\n",
    "    print('Anna')"
   ]
  },
  {
   "cell_type": "code",
   "execution_count": null,
   "id": "5c4ea6be",
   "metadata": {},
   "outputs": [],
   "source": [
    "a = 2\n",
    "b = 3\n",
    "\n",
    "def berechne_summe(a, b):\n",
    "    summe = a + b\n",
    "    return summe\n",
    "\n",
    "print(\"die summe beträgt\", berechne_summe(a, b))"
   ]
  },
  {
   "cell_type": "code",
   "execution_count": null,
   "id": "d060c8e4",
   "metadata": {},
   "outputs": [],
   "source": [
    "sagdeinennamen()"
   ]
  },
  {
   "cell_type": "code",
   "execution_count": null,
   "id": "8bc53ce5",
   "metadata": {},
   "outputs": [],
   "source": [
    "import math\n",
    "\n",
    "radius = 10\n",
    "\n",
    "def berechne_kreisflaeche(radius):\n",
    "    flaeche = math.pi * radius ** 2\n",
    "    return flaeche\n",
    "\n",
    "print('Die Kreisfläche beträgt:', berechne_kreisflaeche(radius), 'cm²')"
   ]
  }
 ],
 "metadata": {
  "kernelspec": {
   "display_name": "Python 3 (ipykernel)",
   "language": "python",
   "name": "python3"
  },
  "language_info": {
   "codemirror_mode": {
    "name": "ipython",
    "version": 3
   },
   "file_extension": ".py",
   "mimetype": "text/x-python",
   "name": "python",
   "nbconvert_exporter": "python",
   "pygments_lexer": "ipython3",
   "version": "3.8.2"
  }
 },
 "nbformat": 4,
 "nbformat_minor": 5
}

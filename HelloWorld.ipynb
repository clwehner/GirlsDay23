{
 "cells": [
  {
   "cell_type": "markdown",
   "id": "3cd9a86a",
   "metadata": {},
   "source": [
    "## Python Basics"
   ]
  },
  {
   "cell_type": "code",
   "execution_count": 1,
   "id": "6eb39195",
   "metadata": {},
   "outputs": [],
   "source": [
    "name = 'Anna'"
   ]
  },
  {
   "cell_type": "code",
   "execution_count": 2,
   "id": "8f7b044c",
   "metadata": {},
   "outputs": [
    {
     "data": {
      "text/plain": [
       "'Anna'"
      ]
     },
     "execution_count": 2,
     "metadata": {},
     "output_type": "execute_result"
    }
   ],
   "source": [
    "name"
   ]
  },
  {
   "cell_type": "code",
   "execution_count": 3,
   "id": "90cebc2f",
   "metadata": {},
   "outputs": [],
   "source": [
    "a = 1"
   ]
  },
  {
   "cell_type": "code",
   "execution_count": 4,
   "id": "f71668b7",
   "metadata": {},
   "outputs": [
    {
     "data": {
      "text/plain": [
       "1"
      ]
     },
     "execution_count": 4,
     "metadata": {},
     "output_type": "execute_result"
    }
   ],
   "source": [
    "a"
   ]
  },
  {
   "cell_type": "code",
   "execution_count": 5,
   "id": "39af7dad",
   "metadata": {},
   "outputs": [
    {
     "name": "stdout",
     "output_type": "stream",
     "text": [
      "1\n"
     ]
    }
   ],
   "source": [
    "print(a)"
   ]
  },
  {
   "cell_type": "code",
   "execution_count": 6,
   "id": "33525352",
   "metadata": {},
   "outputs": [
    {
     "data": {
      "text/plain": [
       "8"
      ]
     },
     "execution_count": 6,
     "metadata": {},
     "output_type": "execute_result"
    }
   ],
   "source": [
    "3 + 5"
   ]
  },
  {
   "cell_type": "code",
   "execution_count": 18,
   "id": "7eab4084",
   "metadata": {},
   "outputs": [
    {
     "data": {
      "text/plain": [
       "6"
      ]
     },
     "execution_count": 18,
     "metadata": {},
     "output_type": "execute_result"
    }
   ],
   "source": [
    "a + 4"
   ]
  },
  {
   "cell_type": "code",
   "execution_count": 7,
   "id": "e10a6bd7",
   "metadata": {},
   "outputs": [],
   "source": [
    "List = [1,2,3,4,5]"
   ]
  },
  {
   "cell_type": "code",
   "execution_count": 8,
   "id": "e2b8ce16",
   "metadata": {},
   "outputs": [
    {
     "data": {
      "text/plain": [
       "[1, 2, 3, 4, 5]"
      ]
     },
     "execution_count": 8,
     "metadata": {},
     "output_type": "execute_result"
    }
   ],
   "source": [
    "List"
   ]
  },
  {
   "cell_type": "code",
   "execution_count": 9,
   "id": "a5cf2ce3",
   "metadata": {},
   "outputs": [],
   "source": [
    "List = [\"Anna\", \"Marie\", \"Lena\"]"
   ]
  },
  {
   "cell_type": "code",
   "execution_count": 10,
   "id": "ae015d40",
   "metadata": {},
   "outputs": [
    {
     "data": {
      "text/plain": [
       "['Anna', 'Marie', 'Lena']"
      ]
     },
     "execution_count": 10,
     "metadata": {},
     "output_type": "execute_result"
    }
   ],
   "source": [
    "List"
   ]
  },
  {
   "cell_type": "code",
   "execution_count": 11,
   "id": "0abb3db3",
   "metadata": {},
   "outputs": [],
   "source": [
    "Alter = [11,12,13,33]"
   ]
  },
  {
   "cell_type": "code",
   "execution_count": 12,
   "id": "9cf43cf0",
   "metadata": {},
   "outputs": [
    {
     "data": {
      "text/plain": [
       "17.25"
      ]
     },
     "execution_count": 12,
     "metadata": {},
     "output_type": "execute_result"
    }
   ],
   "source": [
    "Mittelwert = sum(Alter)/4\n",
    "Mittelwert"
   ]
  },
  {
   "cell_type": "code",
   "execution_count": 19,
   "id": "66148a8c",
   "metadata": {},
   "outputs": [
    {
     "name": "stdout",
     "output_type": "stream",
     "text": [
      "Anna\n",
      "Marie\n",
      "Lena\n"
     ]
    }
   ],
   "source": [
    "for name in List:\n",
    "    print(name)"
   ]
  },
  {
   "cell_type": "code",
   "execution_count": 20,
   "id": "a1a493c5",
   "metadata": {},
   "outputs": [],
   "source": [
    "def SagDeinenNamen():\n",
    "    print('Anna')"
   ]
  },
  {
   "cell_type": "code",
   "execution_count": 15,
   "id": "5c4ea6be",
   "metadata": {},
   "outputs": [
    {
     "name": "stdout",
     "output_type": "stream",
     "text": [
      "die summe beträgt 5\n"
     ]
    }
   ],
   "source": [
    "a = 2\n",
    "b = 3\n",
    "\n",
    "def berechne_summe(a, b):\n",
    "    summe = a + b\n",
    "    return summe\n",
    "\n",
    "print(\"die summe beträgt\", berechne_summe(a, b))"
   ]
  },
  {
   "cell_type": "code",
   "execution_count": 16,
   "id": "d060c8e4",
   "metadata": {},
   "outputs": [
    {
     "name": "stdout",
     "output_type": "stream",
     "text": [
      "Anna\n"
     ]
    }
   ],
   "source": [
    "sagdeinennamen()"
   ]
  },
  {
   "cell_type": "code",
   "execution_count": 17,
   "id": "8bc53ce5",
   "metadata": {},
   "outputs": [
    {
     "name": "stdout",
     "output_type": "stream",
     "text": [
      "Die Kreisfläche beträgt: 314.1592653589793 cm²\n"
     ]
    }
   ],
   "source": [
    "import math\n",
    "\n",
    "radius = 10\n",
    "\n",
    "def berechne_kreisflaeche(radius):\n",
    "    flaeche = math.pi * radius ** 2\n",
    "    return flaeche\n",
    "\n",
    "print('Die Kreisfläche beträgt:', berechne_kreisflaeche(radius), 'cm²')"
   ]
  }
 ],
 "metadata": {
  "kernelspec": {
   "display_name": "Python 3 (ipykernel)",
   "language": "python",
   "name": "python3"
  },
  "language_info": {
   "codemirror_mode": {
    "name": "ipython",
    "version": 3
   },
   "file_extension": ".py",
   "mimetype": "text/x-python",
   "name": "python",
   "nbconvert_exporter": "python",
   "pygments_lexer": "ipython3",
   "version": "3.8.2"
  }
 },
 "nbformat": 4,
 "nbformat_minor": 5
}

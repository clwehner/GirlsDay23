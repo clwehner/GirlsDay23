{
 "cells": [
  {
   "cell_type": "markdown",
   "id": "d3a6ba99",
   "metadata": {},
   "source": [
    "## Python Basics"
   ]
  },
  {
   "cell_type": "code",
   "execution_count": null,
   "id": "6f05213e",
   "metadata": {},
   "outputs": [],
   "source": [
    "print('Hello world')"
   ]
  },
  {
   "cell_type": "code",
   "execution_count": null,
   "id": "efd1e263",
   "metadata": {},
   "outputs": [],
   "source": [
    "# Ich lege einen namen 'Anna' fest\n",
    "name = 'Anna'"
   ]
  },
  {
   "cell_type": "code",
   "execution_count": null,
   "id": "01602a1c",
   "metadata": {},
   "outputs": [],
   "source": [
    "# gebe mir den Namen aus'\n",
    "name"
   ]
  },
  {
   "cell_type": "code",
   "execution_count": null,
   "id": "59cfc509",
   "metadata": {},
   "outputs": [],
   "source": [
    "# ich lege eine Zahl 1 mit dem Namen a fest\n",
    "a = 1"
   ]
  },
  {
   "cell_type": "code",
   "execution_count": null,
   "id": "c8d6f5b8",
   "metadata": {},
   "outputs": [],
   "source": [
    "# gebe mir a aus\n",
    "a"
   ]
  },
  {
   "cell_type": "code",
   "execution_count": null,
   "id": "0cd2e26d",
   "metadata": {},
   "outputs": [],
   "source": [
    "# auch möglich: gebe mir a aus (print)\n",
    "print(a)"
   ]
  },
  {
   "cell_type": "code",
   "execution_count": null,
   "id": "92c24b21",
   "metadata": {},
   "outputs": [],
   "source": [
    "# rechne 3 und 5 zusammen und gebe das Ergebnis aus\n",
    "3 + 5"
   ]
  },
  {
   "cell_type": "code",
   "execution_count": null,
   "id": "e35d23e6",
   "metadata": {},
   "outputs": [],
   "source": [
    "# Leg eine Liste mit den Zahlen 1,2,3,4,5 an\n",
    "List = [1,2,3,4,5]"
   ]
  },
  {
   "cell_type": "code",
   "execution_count": null,
   "id": "35bb054d",
   "metadata": {},
   "outputs": [],
   "source": [
    "# gebe mir die Liste aus\n",
    "List"
   ]
  },
  {
   "cell_type": "code",
   "execution_count": null,
   "id": "a919d467",
   "metadata": {},
   "outputs": [],
   "source": [
    "# Lege eine Liste mit Namen an\n",
    "Namensliste = [\"Anna\", \"Marie\", \"Lena\", \"Cora\"]"
   ]
  },
  {
   "cell_type": "code",
   "execution_count": null,
   "id": "9d672942",
   "metadata": {},
   "outputs": [],
   "source": [
    "# gebe mir die Liste aus\n",
    "Namensliste"
   ]
  },
  {
   "cell_type": "code",
   "execution_count": null,
   "id": "6d214958",
   "metadata": {},
   "outputs": [],
   "source": [
    "# Lege eine Liste mit verschiedenen Altersstufen an\n",
    "Alter = [11,12,13,11]"
   ]
  },
  {
   "cell_type": "code",
   "execution_count": null,
   "id": "57b9e6f9",
   "metadata": {},
   "outputs": [],
   "source": [
    "# das Durchschnittsalter von allen Teilnehmerinnen berechnen\n",
    "mean = sum(Alter)/4\n",
    "mean"
   ]
  },
  {
   "cell_type": "code",
   "execution_count": null,
   "id": "1798a259",
   "metadata": {},
   "outputs": [],
   "source": [
    "# Werkzeugkasten für Diagramme importieren\n",
    "import matplotlib.pyplot as plt\n",
    "import pandas as pd\n",
    "import numpy as np"
   ]
  },
  {
   "cell_type": "code",
   "execution_count": null,
   "id": "5ce3c209",
   "metadata": {},
   "outputs": [],
   "source": [
    "# Ein Balkendiagramm erzeugen mit den Namen und dem Alter\n",
    "x = Namensliste\n",
    "y = Alter\n",
    "\n",
    "y_pos = np.arange(len(Namensliste))\n",
    "\n",
    "plt.bar(y_pos, Alter, align='center')\n",
    "plt.xticks(y_pos, Namensliste)\n",
    "plt.ylabel('Alter')\n",
    "plt.title('Alter der Teilnehmerinnen')\n",
    "plt.show()"
   ]
  },
  {
   "cell_type": "code",
   "execution_count": null,
   "id": "15873852",
   "metadata": {},
   "outputs": [],
   "source": [
    "# Lege eine Funktion sagdeinennamen an und drucke deinen Namen aus\n",
    "def sagdeinennamen():\n",
    "    print('Anna')\n",
    "sagdeinennamen()"
   ]
  },
  {
   "cell_type": "code",
   "execution_count": null,
   "id": "a2b4bbf9",
   "metadata": {},
   "outputs": [],
   "source": [
    "# lege zwei Zahlen fest\n",
    "a = 2\n",
    "b = 3\n",
    "\n",
    "# und berechne die Summe aus diesen beiden Zahlen, gebe, danach einen Text mit \"die Summe beträgt ... aus\"\n",
    "def berechne_summe(a, b):\n",
    "    summe = a + b\n",
    "    return summe\n",
    "\n",
    "print(\"die summe beträgt\", berechne_summe(a, b))"
   ]
  },
  {
   "cell_type": "code",
   "execution_count": null,
   "id": "3b1baee7",
   "metadata": {},
   "outputs": [],
   "source": [
    "# lege einen radius 10 fest\n",
    "radius = 10\n",
    "\n",
    "# berechne mir die Kreisfläche mit einer Formel pi*r²\n",
    "def berechne_kreisflaeche(radius):\n",
    "    flaeche = 3.14 * radius ** 2\n",
    "    return flaeche\n",
    "\n",
    "print('Die Kreisfläche beträgt:', berechne_kreisflaeche(radius), 'cm²')"
   ]
  }
 ],
 "metadata": {
  "kernelspec": {
   "display_name": "Python 3",
   "language": "python",
   "name": "python3"
  },
  "language_info": {
   "codemirror_mode": {
    "name": "ipython",
    "version": 3
   },
   "file_extension": ".py",
   "mimetype": "text/x-python",
   "name": "python",
   "nbconvert_exporter": "python",
   "pygments_lexer": "ipython3",
   "version": "3.9.4"
  }
 },
 "nbformat": 4,
 "nbformat_minor": 5
}

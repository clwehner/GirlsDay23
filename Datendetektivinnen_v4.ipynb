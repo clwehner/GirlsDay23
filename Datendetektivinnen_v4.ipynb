{
 "cells": [
  {
   "cell_type": "code",
   "execution_count": null,
   "metadata": {},
   "outputs": [],
   "source": [
    "import numpy as np\n",
    "import pandas as pd\n",
    "from matplotlib import pyplot as plt\n",
    "from sklearn.cluster import KMeans"
   ]
  },
  {
   "cell_type": "code",
   "execution_count": null,
   "metadata": {},
   "outputs": [],
   "source": [
    "#Load data with missing values\n",
    "file = \"GirlsDay_Beispiel_Windanlagen_v4_missing.csv\"\n",
    "daten = pd.read_csv(file)\n",
    "daten.info()"
   ]
  },
  {
   "cell_type": "code",
   "execution_count": null,
   "metadata": {},
   "outputs": [],
   "source": [
    "daten.describe()"
   ]
  },
  {
   "cell_type": "code",
   "execution_count": null,
   "metadata": {},
   "outputs": [],
   "source": [
    "daten[\"Baujahr\"].value_counts()"
   ]
  },
  {
   "cell_type": "code",
   "execution_count": null,
   "metadata": {},
   "outputs": [],
   "source": [
    "#Visualise data to help data augmentation\n",
    "plt.scatter(daten[\"ID\"].values,daten[\"Hoehe\"].values)\n",
    "plt.xlabel(\"ID\")\n",
    "plt.ylabel(\"Hoehe [m]\")\n",
    "plt.show()\n",
    "#Wir sehen dass die meisten Daten eng beisammen liegen und es 6 Ausreisser gibt.\n",
    "#Die Daten die eng beisammen liegen scheinen aufsteigend: groessere ID bedeutet hoeher.\n",
    "#Wir vermuten, dass die Daten der Hoehe nach sortiert sind. Hilft uns diese Information um die fehlenden Hoehen zu ergaenzen?"
   ]
  },
  {
   "cell_type": "code",
   "execution_count": null,
   "metadata": {},
   "outputs": [],
   "source": [
    "#Funktion die LeistungProFlaeche berechnet basierend auf Leistung und Durchmesser\n",
    "def LeistungProFlaeche(Leistung_MW, Durchmesser):\n",
    "    Flaeche = 3.14*(Durchmesser/2)**2\n",
    "    Leistung_Watt = Leistung_MW*1000000\n",
    "    return np.round(Leistung_Watt/Flaeche)"
   ]
  },
  {
   "cell_type": "code",
   "execution_count": null,
   "metadata": {},
   "outputs": [],
   "source": [
    "#Beispiel erste Zeile der Datentabelle\n",
    "print(LeistungProFlaeche(Leistung_MW=4, Durchmesser=137))"
   ]
  },
  {
   "cell_type": "code",
   "execution_count": null,
   "metadata": {},
   "outputs": [],
   "source": [
    "#Beispiel ID=7\n",
    "print(LeistungProFlaeche(Leistung_MW=4, Durchmesser=145))\n",
    "#Du kannst die Werte aendern, um dir die fehlenden Daten zu berechnen"
   ]
  },
  {
   "cell_type": "code",
   "execution_count": null,
   "metadata": {},
   "outputs": [],
   "source": [
    "#Funktion um den Durchmesser zu berechnen, basierend auf Leistung und LeistungProFlaeche\n",
    "def Durchmesser(Leistung_MW, Leistung_pro_flaeche):\n",
    "    flaeche = 1000000*Leistung_MW/Leistung_pro_flaeche\n",
    "    return np.round(2*np.sqrt(flaeche/np.pi))"
   ]
  },
  {
   "cell_type": "code",
   "execution_count": null,
   "metadata": {},
   "outputs": [],
   "source": [
    "#Beispiel zweite Zeile\n",
    "print(Durchmesser(Leistung_MW=1, Leistung_pro_flaeche=90))"
   ]
  },
  {
   "cell_type": "code",
   "execution_count": null,
   "metadata": {},
   "outputs": [],
   "source": [
    "#Beispiel ID=3\n",
    "print(Durchmesser(Leistung_MW=2, Leistung_pro_flaeche=167))\n",
    "#Du kannst die Werte aendern, um dir die fehlenden Daten zu berechnen"
   ]
  },
  {
   "cell_type": "code",
   "execution_count": null,
   "metadata": {},
   "outputs": [],
   "source": [
    "### CLUSTERING ###"
   ]
  },
  {
   "cell_type": "code",
   "execution_count": null,
   "metadata": {},
   "outputs": [],
   "source": [
    "#Load corrected data\n",
    "file = \"GirlsDay_Beispiel_Windanlagen_v4_complete.csv\"\n",
    "daten = pd.read_csv(file)"
   ]
  },
  {
   "cell_type": "code",
   "execution_count": null,
   "metadata": {},
   "outputs": [],
   "source": [
    "#Visualise Data\n",
    "plt.scatter(daten[\"Hoehe\"].values,daten[\"LeistungProFlaeche\"].values)\n",
    "plt.xlabel(\"Hoehe [m]\")\n",
    "plt.ylabel(\"Leistung pro Flaeche [W/m$^2$]\")\n",
    "plt.show()\n",
    "#Frage: Wie wuerdet ihr clustern? Wie viele Gruppen wuerdet ihr empfehlen?"
   ]
  },
  {
   "cell_type": "code",
   "execution_count": null,
   "metadata": {},
   "outputs": [],
   "source": [
    "# Perform K-Means on normalised data\n",
    "std1 = daten[\"Hoehe\"].std()\n",
    "std2 = daten[\"LeistungProFlaeche\"].std()\n",
    "print(std1,std2)\n",
    "#Divide data by standard deviation to scale clusters\n",
    "daten[\"Hoehe\"] /= std1\n",
    "daten[\"LeistungProFlaeche\"] /= std2"
   ]
  },
  {
   "cell_type": "code",
   "execution_count": null,
   "metadata": {},
   "outputs": [],
   "source": [
    "# K-means Clustering\n",
    "#What is optimal number of clusters?\n",
    "#loop over number of clusters\n",
    "for Nclusters in [2,3,4,5]:\n",
    "    print(\"Anzahl Gruppen:\",Nclusters)\n",
    "    kmeans = KMeans(n_clusters=Nclusters).fit(daten[['Hoehe','LeistungProFlaeche']])\n",
    "    centroids = kmeans.cluster_centers_\n",
    "#    print(centroids)\n",
    "\n",
    "    plt.scatter(daten[\"Hoehe\"]*std1, daten[\"LeistungProFlaeche\"]*std2, c=kmeans.labels_.astype(float), s=100, alpha=1.0)\n",
    "#    plt.scatter(centroids[:, 0]*mean2, centroids[:, 1]*mean1, c='red', s=50)\n",
    "    plt.xlabel(\"Hoehe [m]\")\n",
    "    plt.ylabel(\"Leistung pro Flaeche [W/m$^2$]\")\n",
    "    plt.show()"
   ]
  },
  {
   "cell_type": "code",
   "execution_count": null,
   "metadata": {},
   "outputs": [],
   "source": []
  }
 ],
 "metadata": {
  "kernelspec": {
   "display_name": "Python 3 (ipykernel)",
   "language": "python",
   "name": "python3"
  },
  "language_info": {
   "codemirror_mode": {
    "name": "ipython",
    "version": 3
   },
   "file_extension": ".py",
   "mimetype": "text/x-python",
   "name": "python",
   "nbconvert_exporter": "python",
   "pygments_lexer": "ipython3",
   "version": "3.9.13"
  }
 },
 "nbformat": 4,
 "nbformat_minor": 4
}

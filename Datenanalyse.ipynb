{
 "cells": [
  {
   "cell_type": "code",
   "execution_count": null,
   "metadata": {},
   "outputs": [],
   "source": [
    "import pandas as pd\n",
    "import matplotlib.pyplot as plt\n",
    "\n",
    "import seaborn as sns\n",
    "\n",
    "import plotly.express as px\n",
    "import plotly.graph_objects as go\n",
    "\n",
    "from utils import *\n",
    "\n",
    "import warnings\n",
    "warnings.simplefilter(action='ignore', category=FutureWarning)\n",
    "pd.set_option(\"display.max_columns\", None)"
   ]
  },
  {
   "attachments": {},
   "cell_type": "markdown",
   "metadata": {},
   "source": [
    "# Daten laden und initial angucken\n",
    "\n",
    "Als einen ersten Schritt laden wir den neuen Datensatz mit nun allen Windenergieanlagen aus dem Marktstammdatenregister. Dieser liegt vorgefärtigt in einem für Tabellen speziellen Format vor: Parquet. \n",
    "\n",
    "Mit dem Ausführen der unteren Zelle lädst die Daten in Pandas ein, wie du es auch schon in der letzten Übung gemacht hast. Zusätzlich führen wir auch gleich `.info()` mit aus, um Informationen zu unseren Spalten zu erhalten."
   ]
  },
  {
   "cell_type": "code",
   "execution_count": null,
   "metadata": {},
   "outputs": [],
   "source": [
    "MaStRWind = pd.read_parquet(\"MaStRWind.parquet\")\n",
    "MaStRWind.info()"
   ]
  },
  {
   "attachments": {},
   "cell_type": "markdown",
   "metadata": {},
   "source": [
    "Das sind wirklich verdammt viele Spalten... Ich kann mir unter vielen der Namen nicht einmal vorstellen was da alles hinter stecken soll!\n",
    "\n",
    "Zum Glück gibt es da eine weitere hilfreiche Funktion in Pandas: `.head(n)`\n",
    "\n",
    "Hiermit kannst du dir die n ersten Zeilen deiner Tabelle ausgeben lassen, also den Kopf. Logisch, wie englisch \"head\" auch schon sagt. Wollen wir also die ersten 10 Zeilen sehen, schreiben wir `.head(n=10)`. Wollen wir die ersten 50 Zeilen haben, dann `.head(n=50)`. Das gleich geht auch wenn du dir die letzten Zeilen von unten angucken willst. Dafür kannst du `.tail(n)` benutzen. Willst du also die 10 untersten Zeilen sehen, was bentzt du dann? Probier es aus!"
   ]
  },
  {
   "cell_type": "code",
   "execution_count": null,
   "metadata": {},
   "outputs": [],
   "source": [
    "MaStRWind.head(n=5)"
   ]
  },
  {
   "cell_type": "code",
   "execution_count": null,
   "metadata": {},
   "outputs": [],
   "source": [
    "MaStRWind = Datenvorbereitung(MaStRWind)"
   ]
  },
  {
   "attachments": {},
   "cell_type": "markdown",
   "metadata": {},
   "source": [
    "# Daten visualisieren und analysieren\n",
    "\n",
    "Ich weiß ja nicht wie es euch geht, aber ich kann mit so riesen Tabellen immer nicht so gut arbeiten. Mit fällt es immer leichter wenn ich Bilder vor mir habe um Sachen zu erkennen. Falls es euch da ähnlich geht, haben wir in den nächsten Zellen etwas mit dem ihr ein wenig rum probieren könnt. \n",
    "\n",
    "### Wochenaktivitäten\n",
    "\n",
    "Als kleiner Spaß, lasst uns dochmal gucken an welchen Wochentagen eigentlich die meisten Windenergieanlagen je Bundesland in Betrieb genommen werden. "
   ]
  },
  {
   "cell_type": "code",
   "execution_count": null,
   "metadata": {},
   "outputs": [],
   "source": [
    "MaStRWind_grouped = MaStRWind.loc[MaStRWind[\"Inbetriebnahmejahr\"]>1990].groupby(by=[\"Bundesland\",\"Inbetriebnahmewochentag\"]).sum()[\"Anlagenzahl\"].reset_index()\n",
    "#MaStRWind_grouped[\"Anlagenzahl\"] = MaStRWind_grouped[\"Anlagenzahl\"] / 1000000\n",
    "MaStRWind_grouped_pivot = MaStRWind_grouped.pivot(columns='Inbetriebnahmewochentag',index='Bundesland',values='Anlagenzahl')\n",
    "\n",
    "wochentage = [\"Montag\",\"Dienstag\",\"Mittwoch\",\"Donnerstag\",\"Freitag\",\"Samstag\",\"Sonntag\"]\n",
    "\n",
    "plt.figure(figsize=(8,8))\n",
    "ax = sns.heatmap(MaStRWind_grouped_pivot, annot=True, fmt=\".2f\", cbar_kws={'label': 'In Betrieb genommene Windenergieanlagen je Wochentag [-]'})\n",
    "ax.set_xticklabels(wochentage)\n",
    "plt.xticks(rotation = 45)\n",
    "plt.show()"
   ]
  },
  {
   "attachments": {},
   "cell_type": "markdown",
   "metadata": {},
   "source": [
    "Also am Donnerstag scheint überall am meisten los zu sein. Vielleicht wollen die Leute alle am Freitag nur noch ihre Baustelle aufräumen um dann gut ins Wochenende zu starten? Ich weiß es nicht... Und das warum das so ist, sehen wir das in den Daten? Vielleicht könnt ihr uns hierzu eure Gedanken teilen? Und was ist eigentlich mit den Windenergieanlagen Offshore los?\n",
    "\n",
    "### Ausbau der Bundesländer seit 1990 \n",
    "\n",
    "Als nächstes wollen wir uns einmal den Ausbau seit 1990 angucken. Hierfür gucken wir uns wieder alle Bundesländer und den Bereich Offshore einzeln an. Genauer gucken wir uns aber jetzt nicht die reine Anlagenzahl, sonder die installierte Leistung an. Also die Leistung aller in einem Jahr und Bundesland in Betrieb genommenen Windenergianlagen zusammen. Das wird sicher ein ganz schönes Brett an Bild..."
   ]
  },
  {
   "cell_type": "code",
   "execution_count": null,
   "metadata": {},
   "outputs": [],
   "source": [
    "MaStRWind_grouped = MaStRWind.loc[MaStRWind[\"Inbetriebnahmejahr\"]>1990].groupby(by=[\"Bundesland\",\"Inbetriebnahmejahr\"]).sum()[\"Nettonennleistung\"].reset_index()\n",
    "MaStRWind_grouped[\"Nettonennleistung\"] = MaStRWind_grouped[\"Nettonennleistung\"] / 1000\n",
    "MaStRWind_grouped_pivot = MaStRWind_grouped.pivot(columns='Inbetriebnahmejahr',index='Bundesland',values='Nettonennleistung')\n",
    "\n",
    "plt.figure(figsize=(30,8))\n",
    "sns.heatmap(MaStRWind_grouped_pivot, annot=True, fmt=\".2f\", cbar_kws={'label': 'Zubau an Leistung [MW/a]'}, cmap=\"viridis\")"
   ]
  },
  {
   "attachments": {},
   "cell_type": "markdown",
   "metadata": {},
   "source": [
    "Was war denn da ab 2020? Da ging es ja plötzlich gar nicht mehr vorran... Könnt ihr mir vielleicht helfen was dafür der Grund sein könnte?\n",
    "\n",
    "### Räumliche Zusammenhänge\n",
    "\n",
    "Jetzt wollen wir dochmal gucken, wie die Windenergieanlagen in Deutschland so verteil sind. Speziell wo große Anlagen stehen und wo kleine. Dafür plotten wir alle uns zur Verfügung stehenden Analgen einmal über ihre Koordinaten, lassen die größe der Punkte von den Rotordurchmessern bestimmt sein und die Farbe nach den Bundesländer. Ich bin mal gespannt wie das so aussieht!"
   ]
  },
  {
   "cell_type": "code",
   "execution_count": null,
   "metadata": {},
   "outputs": [],
   "source": [
    "plt.figure(figsize=(12,12))\n",
    "sns.scatterplot(\n",
    "    data=MaStRWind.loc[MaStRWind[\"Inbetriebnahmejahr\"]>1990], \n",
    "    x=\"Laengengrad\", y=\"Breitengrad\", \n",
    "    hue=\"Bundesland\", size=\"Rotordurchmesser\", #style=\"Bundesland\", \n",
    "    palette=\"husl\"\n",
    ")"
   ]
  },
  {
   "attachments": {},
   "cell_type": "markdown",
   "metadata": {},
   "source": [
    "Huch! Da sind aber einige Anlagen dabei, die garnicht in Deutschland stehen... "
   ]
  },
  {
   "cell_type": "code",
   "execution_count": null,
   "metadata": {},
   "outputs": [],
   "source": [
    "plt.figure(figsize=(12,12))\n",
    "sns.scatterplot(\n",
    "    data=MaStRWind.loc[MaStRWind[\"Inbetriebnahmejahr\"]>1990], \n",
    "    x=\"Laengengrad\", y=\"Breitengrad\", \n",
    "    hue=\"Nabenhoehe\", size=\"Rotordurchmesser\", style=\"Bundesland\", \n",
    "    palette=\"husl\", sizes=(10, 150)\n",
    ")"
   ]
  },
  {
   "cell_type": "code",
   "execution_count": null,
   "metadata": {},
   "outputs": [],
   "source": [
    "plt.figure(figsize=(16,12))\n",
    "sns.scatterplot(\n",
    "    data=MaStRWind.loc[(MaStRWind[\"Inbetriebnahmejahr\"]>1990) & (MaStRWind[\"Bundesland\"]!=\"Seelage\")], \n",
    "    x=\"Inbetriebnahmedatum\", y=\"Nabenhoehe\", \n",
    "    hue=\"Bundesland\", size=\"Rotordurchmesser\", sizes=(20, 200)\n",
    ")"
   ]
  },
  {
   "cell_type": "code",
   "execution_count": null,
   "metadata": {},
   "outputs": [],
   "source": [
    "MaStRWind_wms = MaStRWind[MaStRWind[\"Rotordurchmesser\"].notna()]\n",
    "MaStRWind_wms = MaStRWind_wms.loc[MaStRWind_wms[\"Inbetriebnahmejahr\"]>1990]\n",
    "MaStRWind_wms.sort_values(by=[\"Inbetriebnahmedatum\"], inplace=True)\n",
    "\n",
    "fig = go.Figure(px.scatter_mapbox(MaStRWind_wms, \n",
    "            lat=\"Breitengrad\", \n",
    "            lon=\"Laengengrad\", \n",
    "            color=\"Nettonennleistung\",\n",
    "            #size=\"Rotordurchmesser\",\n",
    "            #size_max=40,\n",
    "            hover_name=\"EinheitMastrNummer\", \n",
    "            hover_data=[\"Inbetriebnahmedatum\",\"Hersteller\",\"Typenbezeichnung\",\"Nettonennleistung\",\"Nabenhoehe\",\"Rotordurchmesser\"],\n",
    "            color_continuous_scale=\"jet\", \n",
    "            zoom=4,\n",
    "            height=900,\n",
    "            mapbox_style=\"open-street-map\",\n",
    "            #animation_frame=\"Inbetriebnahmejahr\",\n",
    "            )\n",
    "        )      \n",
    "\n",
    "fig.update_layout(\n",
    "    margin = {'l':0, 'r':0, 'b':0, 't':0},\n",
    "    coloraxis_colorbar=dict(\n",
    "        title=\"Nettonennleistung [kW]\",\n",
    "    ),\n",
    "    title=\"Windenergieanlagenbestand nach Leistung und Rotordurchmesser\",\n",
    ")\n",
    "\n",
    "fig.show()"
   ]
  }
 ],
 "metadata": {
  "kernelspec": {
   "display_name": "test",
   "language": "python",
   "name": "python3"
  },
  "language_info": {
   "codemirror_mode": {
    "name": "ipython",
    "version": 3
   },
   "file_extension": ".py",
   "mimetype": "text/x-python",
   "name": "python",
   "nbconvert_exporter": "python",
   "pygments_lexer": "ipython3",
   "version": "3.9.13"
  },
  "orig_nbformat": 4
 },
 "nbformat": 4,
 "nbformat_minor": 2
}
